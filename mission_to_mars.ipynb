{
 "cells": [
  {
   "cell_type": "code",
   "execution_count": 40,
   "id": "f38694ff",
   "metadata": {},
   "outputs": [
    {
     "name": "stdout",
     "output_type": "stream",
     "text": [
      "Requirement already satisfied: splinter in c:\\users\\cdonnelly.efclocal\\anaconda3\\lib\\site-packages (0.15.0)\n",
      "Requirement already satisfied: six in c:\\users\\cdonnelly.efclocal\\anaconda3\\lib\\site-packages (from splinter) (1.15.0)\n",
      "Requirement already satisfied: selenium>=3.141.0 in c:\\users\\cdonnelly.efclocal\\anaconda3\\lib\\site-packages (from splinter) (3.141.0)\n",
      "Requirement already satisfied: urllib3 in c:\\users\\cdonnelly.efclocal\\anaconda3\\lib\\site-packages (from selenium>=3.141.0->splinter) (1.26.4)\n",
      "Requirement already satisfied: webdriver_manager in c:\\users\\cdonnelly.efclocal\\anaconda3\\lib\\site-packages (3.4.2)\n",
      "Requirement already satisfied: requests in c:\\users\\cdonnelly.efclocal\\anaconda3\\lib\\site-packages (from webdriver_manager) (2.25.1)\n",
      "Requirement already satisfied: configparser in c:\\users\\cdonnelly.efclocal\\anaconda3\\lib\\site-packages (from webdriver_manager) (5.0.2)\n",
      "Requirement already satisfied: crayons in c:\\users\\cdonnelly.efclocal\\anaconda3\\lib\\site-packages (from webdriver_manager) (0.4.0)\n",
      "Requirement already satisfied: colorama in c:\\users\\cdonnelly.efclocal\\anaconda3\\lib\\site-packages (from crayons->webdriver_manager) (0.4.4)\n",
      "Requirement already satisfied: urllib3<1.27,>=1.21.1 in c:\\users\\cdonnelly.efclocal\\anaconda3\\lib\\site-packages (from requests->webdriver_manager) (1.26.4)\n",
      "Requirement already satisfied: idna<3,>=2.5 in c:\\users\\cdonnelly.efclocal\\anaconda3\\lib\\site-packages (from requests->webdriver_manager) (2.10)\n",
      "Requirement already satisfied: chardet<5,>=3.0.2 in c:\\users\\cdonnelly.efclocal\\anaconda3\\lib\\site-packages (from requests->webdriver_manager) (4.0.0)\n",
      "Requirement already satisfied: certifi>=2017.4.17 in c:\\users\\cdonnelly.efclocal\\anaconda3\\lib\\site-packages (from requests->webdriver_manager) (2020.12.5)\n"
     ]
    }
   ],
   "source": [
    "!pip install splinter\n",
    "from splinter import Browser\n",
    "from bs4 import BeautifulSoup\n",
    "!pip install webdriver_manager\n",
    "from webdriver_manager.chrome import ChromeDriverManager\n",
    "import pandas as pd\n",
    "\n",
    "# def scrape():\n",
    "#     # browser = init_browser()\n",
    "#     executable_path = {'executable_path': ChromeDriverManager().install()}\n",
    "#     browser = Browser('chrome', **executable_path, headless=False)\n",
    "\n",
    "#     listings = {}\n",
    "\n",
    "#     url = \"https://webscraper.io/test-sites/e-commerce/allinone/phones/touch\"\n",
    "#     browser.visit(url)\n",
    "\n",
    "#     html = browser.html\n",
    "#     soup = BeautifulSoup(html, \"html.parser\")\n",
    "\n",
    "#     listings[\"headline\"] = soup.find(\"a\", class_=\"title\").get_text()\n",
    "#     listings[\"price\"] = soup.find(\"h4\", class_=\"price\").get_text()\n",
    "#     listings[\"reviews\"] = soup.find(\"p\", class_=\"pull-right\").get_text()\n",
    "\n",
    "#     # Quit the browser\n",
    "#     browser.quit()\n",
    "\n",
    "#     return listings"
   ]
  },
  {
   "cell_type": "code",
   "execution_count": 41,
   "id": "fecb325a",
   "metadata": {},
   "outputs": [
    {
     "name": "stderr",
     "output_type": "stream",
     "text": [
      "\n",
      "\n",
      "====== WebDriver manager ======\n",
      "Current google-chrome version is 92.0.4515\n",
      "Get LATEST driver version for 92.0.4515\n",
      "Driver [C:\\Users\\cdonnelly.EFCLOCAL\\.wdm\\drivers\\chromedriver\\win32\\92.0.4515.107\\chromedriver.exe] found in cache\n"
     ]
    },
    {
     "name": "stdout",
     "output_type": "stream",
     "text": [
      "{'headline': 'NASA Prepares for Moon and Mars With New Addition to Its Deep Space Network', 'text': 'Robotic spacecraft will be able to communicate with the dish using radio waves and lasers.'}\n"
     ]
    }
   ],
   "source": [
    "executable_path = {'executable_path': ChromeDriverManager().install()}\n",
    "browser = Browser('chrome', **executable_path, headless=False)\n",
    "\n",
    "listings = {}\n",
    "\n",
    "url = \"https://redplanetscience.com\"\n",
    "browser.visit(url)\n",
    "\n",
    "html = browser.html\n",
    "soup = BeautifulSoup(html, \"html.parser\")\n",
    "\n",
    "listings[\"headline\"] = soup.find(\"div\", class_=\"content_title\").get_text().strip()\n",
    "listings[\"text\"] = soup.find(\"div\", class_=\"article_teaser_body\").get_text().strip()\n",
    "\n",
    "\n",
    "\n",
    "# Quit the browser\n",
    "browser.quit()\n",
    "print(listings)\n",
    "\n"
   ]
  },
  {
   "cell_type": "code",
   "execution_count": 42,
   "id": "3e92efdb",
   "metadata": {
    "scrolled": true
   },
   "outputs": [
    {
     "name": "stderr",
     "output_type": "stream",
     "text": [
      "\n",
      "\n",
      "====== WebDriver manager ======\n",
      "Current google-chrome version is 92.0.4515\n",
      "Get LATEST driver version for 92.0.4515\n",
      "Driver [C:\\Users\\cdonnelly.EFCLOCAL\\.wdm\\drivers\\chromedriver\\win32\\92.0.4515.107\\chromedriver.exe] found in cache\n"
     ]
    },
    {
     "data": {
      "text/plain": [
       "'https://spaceimages-mars.com/image/featured/mars1.jpg'"
      ]
     },
     "execution_count": 42,
     "metadata": {},
     "output_type": "execute_result"
    }
   ],
   "source": [
    "executable_path = {'executable_path': ChromeDriverManager().install()}\n",
    "browser = Browser('chrome', **executable_path, headless=False)\n",
    "url = \"https://spaceimages-mars.com/\"\n",
    "browser.visit(url)\n",
    "\n",
    "html = browser.html\n",
    "soup = BeautifulSoup(html, \"html.parser\")\n",
    "\n",
    "relative_image_path = soup.find_all('img')[1][\"src\"]\n",
    "featured_image_url = url + relative_image_path\n",
    "\n",
    "\n",
    "\n",
    "# Quit the browser\n",
    "browser.quit()\n",
    "featured_image_url\n"
   ]
  },
  {
   "cell_type": "code",
   "execution_count": 53,
   "id": "4a314841",
   "metadata": {},
   "outputs": [
    {
     "data": {
      "text/html": [
       "<div>\n",
       "<style scoped>\n",
       "    .dataframe tbody tr th:only-of-type {\n",
       "        vertical-align: middle;\n",
       "    }\n",
       "\n",
       "    .dataframe tbody tr th {\n",
       "        vertical-align: top;\n",
       "    }\n",
       "\n",
       "    .dataframe thead th {\n",
       "        text-align: right;\n",
       "    }\n",
       "</style>\n",
       "<table border=\"1\" class=\"dataframe\">\n",
       "  <thead>\n",
       "    <tr style=\"text-align: right;\">\n",
       "      <th></th>\n",
       "      <th>0</th>\n",
       "      <th>1</th>\n",
       "      <th>2</th>\n",
       "    </tr>\n",
       "  </thead>\n",
       "  <tbody>\n",
       "    <tr>\n",
       "      <th>0</th>\n",
       "      <td>Mars - Earth Comparison</td>\n",
       "      <td>Mars</td>\n",
       "      <td>Earth</td>\n",
       "    </tr>\n",
       "    <tr>\n",
       "      <th>1</th>\n",
       "      <td>Diameter:</td>\n",
       "      <td>6,779 km</td>\n",
       "      <td>12,742 km</td>\n",
       "    </tr>\n",
       "    <tr>\n",
       "      <th>2</th>\n",
       "      <td>Mass:</td>\n",
       "      <td>6.39 × 10^23 kg</td>\n",
       "      <td>5.97 × 10^24 kg</td>\n",
       "    </tr>\n",
       "    <tr>\n",
       "      <th>3</th>\n",
       "      <td>Moons:</td>\n",
       "      <td>2</td>\n",
       "      <td>1</td>\n",
       "    </tr>\n",
       "    <tr>\n",
       "      <th>4</th>\n",
       "      <td>Distance from Sun:</td>\n",
       "      <td>227,943,824 km</td>\n",
       "      <td>149,598,262 km</td>\n",
       "    </tr>\n",
       "    <tr>\n",
       "      <th>5</th>\n",
       "      <td>Length of Year:</td>\n",
       "      <td>687 Earth days</td>\n",
       "      <td>365.24 days</td>\n",
       "    </tr>\n",
       "    <tr>\n",
       "      <th>6</th>\n",
       "      <td>Temperature:</td>\n",
       "      <td>-87 to -5 °C</td>\n",
       "      <td>-88 to 58°C</td>\n",
       "    </tr>\n",
       "  </tbody>\n",
       "</table>\n",
       "</div>"
      ],
      "text/plain": [
       "                         0                1                2\n",
       "0  Mars - Earth Comparison             Mars            Earth\n",
       "1                Diameter:         6,779 km        12,742 km\n",
       "2                    Mass:  6.39 × 10^23 kg  5.97 × 10^24 kg\n",
       "3                   Moons:                2                1\n",
       "4       Distance from Sun:   227,943,824 km   149,598,262 km\n",
       "5          Length of Year:   687 Earth days      365.24 days\n",
       "6             Temperature:     -87 to -5 °C      -88 to 58°C"
      ]
     },
     "execution_count": 53,
     "metadata": {},
     "output_type": "execute_result"
    }
   ],
   "source": [
    "# Galaxy facts tables\n",
    "url = \"https://galaxyfacts-mars.com/\"\n",
    "tables = pd.read_html(url)\n",
    "\n",
    "df = tables[0]\n",
    "df"
   ]
  },
  {
   "cell_type": "code",
   "execution_count": 56,
   "id": "7899689f",
   "metadata": {},
   "outputs": [
    {
     "name": "stdout",
     "output_type": "stream",
     "text": [
      "<class 'str'>\n"
     ]
    },
    {
     "data": {
      "text/plain": [
       "'<table border=\"1\" class=\"dataframe\">\\n  <thead>\\n    <tr style=\"text-align: right;\">\\n      <th></th>\\n      <th>0</th>\\n      <th>1</th>\\n      <th>2</th>\\n    </tr>\\n  </thead>\\n  <tbody>\\n    <tr>\\n      <th>0</th>\\n      <td>Mars - Earth Comparison</td>\\n      <td>Mars</td>\\n      <td>Earth</td>\\n    </tr>\\n    <tr>\\n      <th>1</th>\\n      <td>Diameter:</td>\\n      <td>6,779 km</td>\\n      <td>12,742 km</td>\\n    </tr>\\n    <tr>\\n      <th>2</th>\\n      <td>Mass:</td>\\n      <td>6.39 × 10^23 kg</td>\\n      <td>5.97 × 10^24 kg</td>\\n    </tr>\\n    <tr>\\n      <th>3</th>\\n      <td>Moons:</td>\\n      <td>2</td>\\n      <td>1</td>\\n    </tr>\\n    <tr>\\n      <th>4</th>\\n      <td>Distance from Sun:</td>\\n      <td>227,943,824 km</td>\\n      <td>149,598,262 km</td>\\n    </tr>\\n    <tr>\\n      <th>5</th>\\n      <td>Length of Year:</td>\\n      <td>687 Earth days</td>\\n      <td>365.24 days</td>\\n    </tr>\\n    <tr>\\n      <th>6</th>\\n      <td>Temperature:</td>\\n      <td>-87 to -5 °C</td>\\n      <td>-88 to 58°C</td>\\n    </tr>\\n  </tbody>\\n</table>'"
      ]
     },
     "execution_count": 56,
     "metadata": {},
     "output_type": "execute_result"
    }
   ],
   "source": [
    "htmltable = df.to_html()\n",
    "print(type(htmltable))\n",
    "htmltable"
   ]
  },
  {
   "cell_type": "code",
   "execution_count": 58,
   "id": "6a0f4df6",
   "metadata": {},
   "outputs": [
    {
     "data": {
      "text/plain": [
       "'<table border=\"1\" class=\"dataframe\">  <thead>    <tr style=\"text-align: right;\">      <th></th>      <th>0</th>      <th>1</th>      <th>2</th>    </tr>  </thead>  <tbody>    <tr>      <th>0</th>      <td>Mars - Earth Comparison</td>      <td>Mars</td>      <td>Earth</td>    </tr>    <tr>      <th>1</th>      <td>Diameter:</td>      <td>6,779 km</td>      <td>12,742 km</td>    </tr>    <tr>      <th>2</th>      <td>Mass:</td>      <td>6.39 × 10^23 kg</td>      <td>5.97 × 10^24 kg</td>    </tr>    <tr>      <th>3</th>      <td>Moons:</td>      <td>2</td>      <td>1</td>    </tr>    <tr>      <th>4</th>      <td>Distance from Sun:</td>      <td>227,943,824 km</td>      <td>149,598,262 km</td>    </tr>    <tr>      <th>5</th>      <td>Length of Year:</td>      <td>687 Earth days</td>      <td>365.24 days</td>    </tr>    <tr>      <th>6</th>      <td>Temperature:</td>      <td>-87 to -5 °C</td>      <td>-88 to 58°C</td>    </tr>  </tbody></table>'"
      ]
     },
     "execution_count": 58,
     "metadata": {},
     "output_type": "execute_result"
    }
   ],
   "source": [
    "htmltable1 = htmltable.replace('\\n', '')\n",
    "htmltable1"
   ]
  },
  {
   "cell_type": "code",
   "execution_count": null,
   "id": "1b00af4c",
   "metadata": {},
   "outputs": [],
   "source": []
  }
 ],
 "metadata": {
  "kernelspec": {
   "display_name": "Python 3",
   "language": "python",
   "name": "python3"
  },
  "language_info": {
   "codemirror_mode": {
    "name": "ipython",
    "version": 3
   },
   "file_extension": ".py",
   "mimetype": "text/x-python",
   "name": "python",
   "nbconvert_exporter": "python",
   "pygments_lexer": "ipython3",
   "version": "3.8.8"
  }
 },
 "nbformat": 4,
 "nbformat_minor": 5
}
