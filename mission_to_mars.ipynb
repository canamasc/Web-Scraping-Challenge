{
 "cells": [
  {
   "cell_type": "code",
   "execution_count": 2,
   "id": "6ac21f35",
   "metadata": {},
   "outputs": [
    {
     "name": "stderr",
     "output_type": "stream",
     "text": [
      "\n",
      "\n",
      "====== WebDriver manager ======\n",
      "Current google-chrome version is 92.0.4515\n",
      "Get LATEST driver version for 92.0.4515\n",
      "Driver [C:\\Users\\cdonnelly.EFCLOCAL\\.wdm\\drivers\\chromedriver\\win32\\92.0.4515.107\\chromedriver.exe] found in cache\n"
     ]
    }
   ],
   "source": [
    "from splinter import Browser\n",
    "from bs4 import BeautifulSoup\n",
    "from webdriver_manager.chrome import ChromeDriverManager\n",
    "import pandas as pd\n",
    "\n",
    "\n",
    "executable_path = {'executable_path': ChromeDriverManager().install()}\n",
    "browser = Browser('chrome', **executable_path, headless=False)\n",
    "\n",
    "def scrape(url_str):\n",
    "    browser.visit(url_str)\n",
    "    html = browser.html\n",
    "    soup = BeautifulSoup(html, \"html.parser\")\n",
    "    return soup"
   ]
  },
  {
   "cell_type": "code",
   "execution_count": 3,
   "id": "cf76e7f9",
   "metadata": {},
   "outputs": [
    {
     "name": "stdout",
     "output_type": "stream",
     "text": [
      "{'headline': \"3 Things We've Learned From NASA's Mars InSight\", 'text': 'Scientists are finding new mysteries since the geophysics mission landed two years ago.'}\n"
     ]
    }
   ],
   "source": [
    "listings = {}\n",
    "\n",
    "url = \"https://redplanetscience.com\"\n",
    "\n",
    "soup = scrape(url)\n",
    "listings[\"headline\"] = soup.find(\"div\", class_=\"content_title\").get_text().strip()\n",
    "listings[\"text\"] = soup.find(\"div\", class_=\"article_teaser_body\").get_text().strip()\n",
    "\n",
    "print(listings)\n",
    "\n"
   ]
  },
  {
   "cell_type": "code",
   "execution_count": 4,
   "id": "ba78d73c",
   "metadata": {
    "scrolled": true
   },
   "outputs": [
    {
     "data": {
      "text/plain": [
       "'https://spaceimages-mars.com/image/featured/mars2.jpg'"
      ]
     },
     "execution_count": 4,
     "metadata": {},
     "output_type": "execute_result"
    }
   ],
   "source": [
    "url = \"https://spaceimages-mars.com/\"\n",
    "soup = scrape(url)\n",
    "relative_image_path = soup.find_all('img')[1][\"src\"]\n",
    "featured_image_url = url + relative_image_path\n",
    "\n",
    "featured_image_url\n"
   ]
  },
  {
   "cell_type": "code",
   "execution_count": 13,
   "id": "c2cbea24",
   "metadata": {},
   "outputs": [
    {
     "data": {
      "text/html": [
       "<div>\n",
       "<style scoped>\n",
       "    .dataframe tbody tr th:only-of-type {\n",
       "        vertical-align: middle;\n",
       "    }\n",
       "\n",
       "    .dataframe tbody tr th {\n",
       "        vertical-align: top;\n",
       "    }\n",
       "\n",
       "    .dataframe thead th {\n",
       "        text-align: right;\n",
       "    }\n",
       "</style>\n",
       "<table border=\"1\" class=\"dataframe\">\n",
       "  <thead>\n",
       "    <tr style=\"text-align: right;\">\n",
       "      <th></th>\n",
       "      <th>Mars</th>\n",
       "      <th>Earth</th>\n",
       "    </tr>\n",
       "    <tr>\n",
       "      <th></th>\n",
       "      <th></th>\n",
       "      <th></th>\n",
       "    </tr>\n",
       "  </thead>\n",
       "  <tbody>\n",
       "    <tr>\n",
       "      <th>Description</th>\n",
       "      <td></td>\n",
       "      <td></td>\n",
       "    </tr>\n",
       "    <tr>\n",
       "      <th>Mars - Earth Comparison</th>\n",
       "      <td>Mars</td>\n",
       "      <td>Earth</td>\n",
       "    </tr>\n",
       "    <tr>\n",
       "      <th>Diameter:</th>\n",
       "      <td>6,779 km</td>\n",
       "      <td>12,742 km</td>\n",
       "    </tr>\n",
       "    <tr>\n",
       "      <th>Mass:</th>\n",
       "      <td>6.39 × 10^23 kg</td>\n",
       "      <td>5.97 × 10^24 kg</td>\n",
       "    </tr>\n",
       "    <tr>\n",
       "      <th>Moons:</th>\n",
       "      <td>2</td>\n",
       "      <td>1</td>\n",
       "    </tr>\n",
       "    <tr>\n",
       "      <th>Distance from Sun:</th>\n",
       "      <td>227,943,824 km</td>\n",
       "      <td>149,598,262 km</td>\n",
       "    </tr>\n",
       "    <tr>\n",
       "      <th>Length of Year:</th>\n",
       "      <td>687 Earth days</td>\n",
       "      <td>365.24 days</td>\n",
       "    </tr>\n",
       "    <tr>\n",
       "      <th>Temperature:</th>\n",
       "      <td>-87 to -5 °C</td>\n",
       "      <td>-88 to 58°C</td>\n",
       "    </tr>\n",
       "  </tbody>\n",
       "</table>\n",
       "</div>"
      ],
      "text/plain": [
       "0                                   Mars            Earth\n",
       "                                                         \n",
       "Description                                              \n",
       "Mars - Earth Comparison             Mars            Earth\n",
       "Diameter:                       6,779 km        12,742 km\n",
       "Mass:                    6.39 × 10^23 kg  5.97 × 10^24 kg\n",
       "Moons:                                 2                1\n",
       "Distance from Sun:        227,943,824 km   149,598,262 km\n",
       "Length of Year:           687 Earth days      365.24 days\n",
       "Temperature:                -87 to -5 °C      -88 to 58°C"
      ]
     },
     "execution_count": 13,
     "metadata": {},
     "output_type": "execute_result"
    }
   ],
   "source": [
    "# Galaxy facts tables\n",
    "url = \"https://galaxyfacts-mars.com/\"\n",
    "tables = pd.read_html(url)\n",
    "\n",
    "df = tables[0]\n",
    "df = pd.DataFrame([{0:'',1:'Mars',2:'Earth'}, {0:'Description',1:'',2:''}]).append(df)\n",
    "df.columns = df.iloc[0]\n",
    "df = df.iloc[1: , :]\n",
    "df = df.set_index('')\n",
    "df"
   ]
  },
  {
   "cell_type": "code",
   "execution_count": null,
   "id": "9b1a0b41",
   "metadata": {},
   "outputs": [],
   "source": [
    "htmltable = df.to_html()\n",
    "htmltable1 = htmltable.replace('\\n', '')\n",
    "htmltable1"
   ]
  },
  {
   "cell_type": "code",
   "execution_count": null,
   "id": "6e01fc60",
   "metadata": {},
   "outputs": [],
   "source": [
    "url = \"https://marshemispheres.com/\"\n",
    "hemispheres = []\n",
    "\n",
    "soup = scrape(url)\n",
    "sidebar = soup.find_all('div', class_='item')\n",
    "\n",
    "for item in sidebar:\n",
    "    hemi = {}\n",
    "    img_url = item.find('a')['href']\n",
    "    hemi['title'] = (item.find('h3').get_text().strip())[:-9]\n",
    " \n",
    "    newurl = url + img_url\n",
    "    soup = scrape(newurl)\n",
    "    \n",
    "    # is this correct image?\n",
    "    n = soup.find_all('dd')[1]\n",
    "    hemi['img_url'] = n.find('a')['href']\n",
    "    \n",
    "    hemispheres.append(hemi)\n",
    "hemispheres"
   ]
  },
  {
   "cell_type": "code",
   "execution_count": null,
   "id": "24e14c1f",
   "metadata": {},
   "outputs": [],
   "source": [
    "# Quit the browser\n",
    "browser.quit()"
   ]
  },
  {
   "cell_type": "code",
   "execution_count": null,
   "id": "0f8a2678",
   "metadata": {},
   "outputs": [],
   "source": []
  }
 ],
 "metadata": {
  "kernelspec": {
   "display_name": "Python 3",
   "language": "python",
   "name": "python3"
  },
  "language_info": {
   "codemirror_mode": {
    "name": "ipython",
    "version": 3
   },
   "file_extension": ".py",
   "mimetype": "text/x-python",
   "name": "python",
   "nbconvert_exporter": "python",
   "pygments_lexer": "ipython3",
   "version": "3.8.8"
  }
 },
 "nbformat": 4,
 "nbformat_minor": 5
}
